{
 "cells": [
  {
   "cell_type": "markdown",
   "metadata": {},
   "source": [
    "## Nolan Roth\n",
    "\n",
    "## Expanded Model Function in RK4 Integrator for VPython Vectors\n",
    "\n",
    "For this project my goal was to expand the pendulum model function and RK4 integrator to work with VPython vector objects."
   ]
  },
  {
   "cell_type": "code",
   "execution_count": 23,
   "metadata": {},
   "outputs": [],
   "source": [
    "import numpy as np\n",
    "import matplotlib.pyplot as plt"
   ]
  },
  {
   "cell_type": "markdown",
   "metadata": {},
   "source": [
    "This is the model function--the main differential equation that is fed into the RK4 integrator. The function takes in a list of theta values and a list of omega values and returns lists containing the next timestep of those values. The model function had to be significantly changed to have compatibility with VPython vectors. Most of the changes come in the \"domega_dt\" line, where there were multiple one-dimensional or vector-illegal statements that needed to be re-written or expanded."
   ]
  },
  {
   "cell_type": "code",
   "execution_count": 25,
   "metadata": {},
   "outputs": [],
   "source": [
    "def model_pendulum(y, t): # y=[theta,omega]; function returns [dtheta/dt, domega/dt]    \n",
    "    theta = y[0]\n",
    "    omega = y[1]\n",
    "    dtheta_dt = omega\n",
    "    \n",
    "    #original integrator line\n",
    "    #domega_dt = omega_0**2*gamma*np.cos(omega_d*t) - omega_0**2*np.sin(theta)-2*beta*omega\n",
    "\n",
    "    omega0square = vp.cross(omega_0,omega_0)\n",
    "    cosomegadt = vp.vec(np.cos(omega_d.x*t),np.cos(omega_d.y*t),np.cos(omega_d.z*t))\n",
    "    vecpieceOne = vp.cross(omega0square,cosomegadt)\n",
    "    \n",
    "    sinTheta = vp.vec(np.sin(theta.x),np.sin(theta.y),np.sin(theta.z))\n",
    "    vecpieceTwo = vp.cross(beta,omega)\n",
    "    \n",
    "    domega_dt = vecpieceOne*gamma - sinTheta-2*vecpieceTwo\n",
    "    \n",
    "    return np.array([dtheta_dt, domega_dt])"
   ]
  },
  {
   "cell_type": "code",
   "execution_count": 3,
   "metadata": {},
   "outputs": [],
   "source": [
    "def RK4(diffeq, y0, t, h):\n",
    "    \"\"\" RK4 method for ODEs:\n",
    "        Given y0 at t, returns y1 at t+h \"\"\"\n",
    "    k1 = h*diffeq(y0, t)                    # dy/dt at t\n",
    "    k2 = h*diffeq(y0+0.5*k1, t + h/2.)      # dy/dt at t+h/2\n",
    "    k3 = h*diffeq(y0+0.5*k2, t + h/2.)      # dy/dt at t+h/2\n",
    "    k4 = h*diffeq(y0+k3, t + h)             # dy/dt at t+h\n",
    "    return y0 + (k1+k4)/6.0 + (k2+k3)/3.0"
   ]
  },
  {
   "cell_type": "markdown",
   "metadata": {},
   "source": [
    "With the model function and the RK4 integrator defined, let's set up a scenario. Below are some of our initial conditions."
   ]
  },
  {
   "cell_type": "code",
   "execution_count": 18,
   "metadata": {},
   "outputs": [],
   "source": [
    "omega_d = vp.vec(2*np.pi,2*np.pi,2*np.pi)\n",
    "omega_0 = 1.5*omega_d\n",
    "gamma = 0.2\n",
    "beta = omega_0/4\n",
    "\n",
    "theta_i = vp.vec(1,0,0) #initial theta\n",
    "omega_i = vp.vec(0,0,0) #initial omega\n",
    "y0 = [theta_i, omega_i] #vector to be integrated [theta, omega]"
   ]
  },
  {
   "cell_type": "markdown",
   "metadata": {},
   "source": [
    "Now comes the creation of lists to hold our soon-to-be-integrated data sets and the integration step itself."
   ]
  },
  {
   "cell_type": "code",
   "execution_count": 19,
   "metadata": {},
   "outputs": [],
   "source": [
    "t = 0.0\n",
    "h = 0.01\n",
    "\n",
    "y0 = [theta_i, omega_i] #reset in case I run this cell again\n",
    "tdata = []\n",
    "thetadata = []\n",
    "\n",
    "tdata.append(t)\n",
    "thetadata.append(theta_i)\n",
    "\n",
    "while t < 100:\n",
    "    #integrate\n",
    "    y1 = RK4(model_pendulum, y0, t, h) #update y[n]\n",
    "\n",
    "    for i in range(len(y1)): #reset y0 to the new vector\n",
    "        y0[i] = y1[i]\n",
    "\n",
    "    t = t + h #update clock\n",
    "\n",
    "    tdata.append(t)\n",
    "    thetadata.append(y1[0])\n",
    "    "
   ]
  },
  {
   "cell_type": "markdown",
   "metadata": {},
   "source": [
    "With our fully integrated scenario, we can plot the results!"
   ]
  },
  {
   "cell_type": "code",
   "execution_count": 26,
   "metadata": {
    "scrolled": true
   },
   "outputs": [
    {
     "data": {
      "text/plain": [
       "[<matplotlib.lines.Line2D at 0x7f2949e5c9e8>]"
      ]
     },
     "execution_count": 26,
     "metadata": {},
     "output_type": "execute_result"
    },
    {
     "data": {
      "image/png": "[encoded data removed]",
      "text/plain": [
       "<Figure size 432x288 with 1 Axes>"
      ]
     },
     "metadata": {},
     "output_type": "display_data"
    }
   ],
   "source": [
    "L = 9.8/(vp.mag(omega_0)**2)\n",
    "\n",
    "xlist = []\n",
    "for theta in thetadata:\n",
    "    xlist.append(theta.x)\n",
    "\n",
    "y = -L*np.cos(np.asarray(xlist))\n",
    "x = -L*np.sin(np.asarray(xlist))\n",
    "#print(xlist)\n",
    "#plt.setaspect(1)\n",
    "\n",
    "plt.plot(x,y)"
   ]
  },
  {
   "cell_type": "markdown",
   "metadata": {},
   "source": [
    "Let's utilize our RK4-integrated data in a VPython simulation."
   ]
  },
  {
   "cell_type": "code",
   "execution_count": 21,
   "metadata": {},
   "outputs": [],
   "source": [
    "import vpython as vp"
   ]
  },
  {
   "cell_type": "code",
   "execution_count": 22,
   "metadata": {},
   "outputs": [
    {
     "data": {
      "text/html": [
       "<div id=\"glowscript\" class=\"glowscript\"></div>"
      ],
      "text/plain": [
       "<IPython.core.display.HTML object>"
      ]
     },
     "metadata": {},
     "output_type": "display_data"
    },
    {
     "data": {
      "application/javascript": [
       "window.__context = { glowscript_container: $(\"#glowscript\").removeAttr(\"id\")}"
      ],
      "text/plain": [
       "<IPython.core.display.Javascript object>"
      ]
     },
     "metadata": {},
     "output_type": "display_data"
    }
   ],
   "source": [
    "scene = vp.canvas()\n",
    "g=9.8\n",
    "\n",
    "support = vp.sphere(pos=vp.vec(0,0,0),radius=L/40,color=vp.color.orange)\n",
    "bob = vp.sphere(pos=vp.vec(L*np.sin(theta_i.x),-L*np.cos(theta_i.y),0),radius=L/20,color=vp.color.yellow)\n",
    "\n",
    "rod = vp.cylinder(pos=support.pos,axis=bob.pos-support.pos,radius=L/70)\n",
    "\n",
    "#costheta = vp.vec(np.cos(thetadata[counter].x),np.cos(thetadata[counter].y),np.cos(thetadata[counter].z))\n",
    "#sinetheta = vp.vec(np.sin(thetadata[counter].x),np.sin(thetadata[counter].y),np.sin(thetadata[counter].z))\n",
    "\n",
    "for theta in thetadata:\n",
    "    vp.rate(100)\n",
    "    \n",
    "    bob.pos=vp.vec(L*np.sin(theta.x),-L*np.cos(theta.y),0)\n",
    "    rod.axis = bob.pos-support.pos"
   ]
  },
  {
   "cell_type": "code",
   "execution_count": null,
   "metadata": {},
   "outputs": [],
   "source": []
  }
 ],
 "metadata": {
  "kernelspec": {
   "display_name": "Python 3",
   "language": "python",
   "name": "python3"
  },
  "language_info": {
   "codemirror_mode": {
    "name": "ipython",
    "version": 3
   },
   "file_extension": ".py",
   "mimetype": "text/x-python",
   "name": "python",
   "nbconvert_exporter": "python",
   "pygments_lexer": "ipython3",
   "version": "3.6.5"
  }
 },
 "nbformat": 4,
 "nbformat_minor": 2
}
